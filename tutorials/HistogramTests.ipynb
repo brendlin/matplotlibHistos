{
 "cells": [
  {
   "cell_type": "code",
   "execution_count": null,
   "metadata": {},
   "outputs": [],
   "source": [
    "# %matplotlib notebook\n",
    "import numpy as np\n",
    "import matplotlib.pyplot as plt\n",
    "import sys\n",
    "from Histo import Histo"
   ]
  },
  {
   "cell_type": "markdown",
   "metadata": {},
   "source": [
    "Plotting: Comparing built-in plt.hist, [plt.errorbar with np.histogram] and my Histo class\n",
    "--------\n",
    "Matplotlib has a `plt.hist` function that takes your data directly and plots it in a histogram. It is very memory intensive, because it requires you to keep your whole dataset around. It also does not have good error bar options.\n",
    "\n",
    "To get error bars, we can use a combination of `np.histogram()` and `plt.errorbar()`. But this suffers from the same memory issue as above.\n",
    "\n",
    "My Histo class (initiated by e.g. `Histo.FixedWidthConstructor(20,-4.0,4.0)`) has a Fill function that allows you to loop through data and discard it from memory (e.g. if you are running over multi-GB+ files), that you cannot keep open all at once."
   ]
  },
  {
   "cell_type": "code",
   "execution_count": null,
   "metadata": {},
   "outputs": [],
   "source": [
    "ax = plt.subplot()\n",
    "ax.set_yscale(\"log\")\n",
    "\n",
    "# First try: pyplot \"hist\". Eh... not good.\n",
    "if True :\n",
    "    xx = np.random.normal(0,1,(100000))\n",
    "    plt.hist(xx,np.linspace(-4,4,num=21),edgecolor='red',histtype = 'step',fill=None,label='plt.hist')\n",
    "\n",
    "# second try: np.histogram <- I like this one ... but it can be memory intensive\n",
    "if False :\n",
    "    x = np.random.randn(100000)\n",
    "    print(\"size of data: {} kB\".format(sys.getsizeof(x)/1000))\n",
    "    counts,bin_edges = np.histogram(x,20,[-4,4])\n",
    "    #bin_centers = (bin_edges[:-1] + bin_edges[1:])/2.\n",
    "    bin_centers = bin_edges[:-1] + np.diff(bin_edges) / 2\n",
    "    err = np.sqrt(counts)\n",
    "    #print(\"counts:\",counts)\n",
    "    #print(\"errors:\",err)\n",
    "    plt.errorbar(bin_centers, counts, yerr=err, fmt='o',label='np.histogram')\n",
    "\n",
    "# third try: keep track of sumw, sumw2 manually, and errorbar\n",
    "# Histo class! (Supports 1D, 2D, 3D histograms)\n",
    "if True :\n",
    "    histo = Histo.FixedWidthConstructor(20,-4.0,4.0)\n",
    "    print(\"size of histo: {} kB\".format(sys.getsizeof(histo)))\n",
    "    \n",
    "    for i in range(100000) :\n",
    "        val = np.random.randn()\n",
    "        histo.Fill(val)\n",
    "        \n",
    "    histo.Draw(label='histo.Draw')\n",
    "    #histo.bar(fill=None,edgecolor='blue',label='Histo \\\"bar\\\"')\n",
    "    histo.hist(edgecolor='purple',histtype='step',fill=None,label='histo.plt_hist')\n",
    "    \n",
    "ax.legend()\n",
    "plt.show()"
   ]
  },
  {
   "cell_type": "markdown",
   "metadata": {},
   "source": [
    "Another example, showing another marker and error bar style:\n",
    "-------"
   ]
  },
  {
   "cell_type": "code",
   "execution_count": null,
   "metadata": {},
   "outputs": [],
   "source": [
    "fig2,ax2 = plt.subplots()\n",
    "\n",
    "# 2d histogram\n",
    "if True :\n",
    "    histo2 = Histo.FixedWidthConstructor(20,-4.0,4.0)\n",
    "    \n",
    "    for i in range(10000) :\n",
    "        val = np.random.randn()\n",
    "        histo2.Fill(val)\n",
    "        \n",
    "    plt.errorbar(histo2.BinCenters(histo2.xbin_edges),histo2.sumw[1:-1],\n",
    "                 yerr=np.sqrt(histo2.sumw2[1:-1]), fmt='o',fillstyle='none')\n",
    "\n",
    "\n",
    "plt.show()"
   ]
  },
  {
   "cell_type": "markdown",
   "metadata": {},
   "source": [
    "2-D histogram, with variable binning using pcolor and my histo2d\n",
    "-------\n",
    "(dividing each bin by its area to normalize)"
   ]
  },
  {
   "cell_type": "code",
   "execution_count": null,
   "metadata": {},
   "outputs": [],
   "source": [
    "fig2,ax2 = plt.subplots()\n",
    "ax2.set(xlabel='x axis', ylabel='y axis',title='Plot title')\n",
    "\n",
    "# 2d histogram\n",
    "#histo2d = Histo.FixedWidthConstructor(10,-4,4,10,-4,4)\n",
    "histo2d = Histo(list(np.linspace(-4, 0, num=20))+list(np.linspace(0.4, 4, num=9)),\n",
    "                list(np.linspace(-4, 0, num=20))+list(np.linspace(0.4, 4, num=9)))\n",
    "#histo2d = Histo(list(np.linspace(-4, 0, num=2))+list(np.linspace(1, 4, num=3)),\n",
    "#                list(np.linspace(-4, 0, num=2))+list(np.linspace(1, 4, num=3)))\n",
    "\n",
    "for i in range(100000) :\n",
    "    val1 = np.random.normal(-1)\n",
    "    val2 = np.random.normal(-1)\n",
    "    histo2d.Fill(val1,val2)\n",
    "\n",
    "X,Y = np.meshgrid(histo2d.xbin_edges, histo2d.ybin_edges)\n",
    "area = (X[:-1,1:]-X[:-1,:-1]) * (Y[1:,:-1]-Y[:-1,:-1])\n",
    "sumw_width = histo2d.sumw[1:-1,1:-1] / area\n",
    "plt.pcolor(X, Y, sumw_width,cmap='Blues',vmin=0,vmax=15000)\n",
    "cbar = plt.colorbar()\n",
    "cbar.set_label('z axis', rotation=270,labelpad=15)\n",
    "    \n",
    "plt.show()"
   ]
  },
  {
   "cell_type": "markdown",
   "metadata": {},
   "source": [
    "2D binning, without dividing by area:\n",
    "--------"
   ]
  },
  {
   "cell_type": "code",
   "execution_count": null,
   "metadata": {},
   "outputs": [],
   "source": [
    "fig2p1,ax2p1 = plt.subplots()\n",
    "ax2p1.set(xlabel='x axis', ylabel='y axis',title='Plot title')\n",
    "\n",
    "X,Y = np.meshgrid(histo2d.xbin_edges, histo2d.ybin_edges)\n",
    "plt.pcolor(X, Y, histo2d.sumw[1:-1,1:-1],cmap='Blues',vmin=0,vmax=800)\n",
    "plt.colorbar().set_label('z axis', rotation=270,labelpad=15)\n",
    "\n",
    "plt.show()"
   ]
  },
  {
   "cell_type": "markdown",
   "metadata": {},
   "source": [
    "Contourf Example (using meshgrid and my histo2d)\n",
    "---------\n",
    "Please note the contourf-specific issues related to getting the colorbar levels to match the plot levels!"
   ]
  },
  {
   "cell_type": "code",
   "execution_count": null,
   "metadata": {},
   "outputs": [],
   "source": [
    "fig3,ax3 = plt.subplots()\n",
    "ax3.set(xlabel='x axis', ylabel='y axis',title='Plot title')\n",
    "\n",
    "# contours are *point* based plots, so convert our bound into point centers\n",
    "X,Y = np.meshgrid(histo2d.BinCenters(histo2d.xbin_edges),\n",
    "                  histo2d.BinCenters(histo2d.ybin_edges))\n",
    "\n",
    "Xedges,Yedges = np.meshgrid(histo2d.xbin_edges, histo2d.ybin_edges)\n",
    "area = (Xedges[:-1,1:]-Xedges[:-1,:-1]) * (Yedges[1:,:-1]-Yedges[:-1,:-1])\n",
    "\n",
    "sumw_width = histo2d.sumw[1:-1,1:-1] / area\n",
    "\n",
    "# For contourf only:\n",
    "# If you do not set levels, then you do not have control over the min/max\n",
    "# of the colorbar !!!\n",
    "vmin,vmax = 0,18000\n",
    "levels = np.linspace(vmin, vmax, 10+1)\n",
    "\n",
    "plt.contourf(X,Y,sumw_width,cmap='Blues',vmin=vmin,vmax=vmax,levels=levels)\n",
    "\n",
    "ax3.set_xlim([-4,4])\n",
    "ax3.set_ylim([-4,4])\n",
    "plt.colorbar().set_label('z axis', rotation=270,labelpad=15)\n",
    "plt.show()"
   ]
  },
  {
   "cell_type": "markdown",
   "metadata": {},
   "source": [
    "Stacked Histograms\n",
    "=======\n",
    "Let's make stacked histograms from data where the x-values do not exactly line up... using an **outer merge** function."
   ]
  },
  {
   "cell_type": "code",
   "execution_count": null,
   "metadata": {},
   "outputs": [],
   "source": [
    "import pandas as pd\n",
    "import random\n",
    "\n",
    "df1 = pd.DataFrame()\n",
    "df1['x'] = list(np.round(random.random(),2) for a in range(40))\n",
    "df1['y'] = list(x*0.5 for x in df1['x'])\n",
    "\n",
    "df2 = pd.DataFrame()\n",
    "df2['x'] = list(np.round(random.random(),2) for a in range(100))\n",
    "df2['y'] = list(x for x in df2['x'])\n",
    "\n",
    "combo = pd.merge(df1,df2,how='outer',on='x',suffixes=('_1','_2'))\n",
    "\n",
    "# Sort again...\n",
    "combo.sort_values(by='x',inplace=True)\n",
    "\n",
    "# First, \"forward-fill\" nan values\n",
    "combo.fillna(method='ffill',inplace=True)\n",
    "\n",
    "# Then, set the remaining ones to 0\n",
    "combo.fillna(0,inplace=True)\n",
    "\n",
    "fig4,ax4 = plt.subplots()\n",
    "\n",
    "ax4.stackplot(combo['x'],[combo['y_1'],combo['y_2']],labels=['y1','y2'],edgecolor='black',alpha=0.8)\n",
    "ax4.legend(loc='upper left')\n",
    "\n",
    "# One option for axis ranges:\n",
    "ax4.axis(xmin=combo['x'].iloc[0],xmax=combo['x'].iloc[-1])\n",
    "\n",
    "# Another option for axis ranges:\n",
    "ax4.set_ylim([0,1.8]);"
   ]
  },
  {
   "cell_type": "markdown",
   "metadata": {},
   "source": [
    "Graph with Filled, Asymmetric Errors\n",
    "========="
   ]
  },
  {
   "cell_type": "code",
   "execution_count": null,
   "metadata": {},
   "outputs": [],
   "source": [
    "fig5,ax5 = plt.subplots()\n",
    "\n",
    "x = np.arange(0,500,50)\n",
    "y = np.random.poisson(np.rint(np.sqrt(x)))\n",
    "yerr = np.sqrt(y)\n",
    "\n",
    "ax5.plot(x,y,label='Poisson-distributed')\n",
    "ax5.set(xlabel='bins', ylabel='Events')\n",
    "ax5.fill_between(x, y-yerr, y+yerr,\n",
    "                 alpha=0.5, edgecolor='#1B2ACC', facecolor='#089FFF',label='$\\sqrt{n}$')\n",
    "ax5.legend(loc='lower right');"
   ]
  }
 ],
 "metadata": {
  "kernelspec": {
   "display_name": "Python 3",
   "language": "python",
   "name": "python3"
  },
  "language_info": {
   "codemirror_mode": {
    "name": "ipython",
    "version": 3
   },
   "file_extension": ".py",
   "mimetype": "text/x-python",
   "name": "python",
   "nbconvert_exporter": "python",
   "pygments_lexer": "ipython3",
   "version": "3.8.2"
  }
 },
 "nbformat": 4,
 "nbformat_minor": 2
}
