{
 "cells": [
  {
   "cell_type": "code",
   "execution_count": null,
   "metadata": {},
   "outputs": [],
   "source": [
    "import numpy as np\n",
    "from scipy.integrate import odeint\n",
    "import matplotlib.pyplot as plt"
   ]
  },
  {
   "cell_type": "code",
   "execution_count": null,
   "metadata": {},
   "outputs": [],
   "source": [
    "def projectile_dt(X,t,mu,g):\n",
    "    x,y,vx,vy = X # X = [x,y,vx,vy]\n",
    "    v = np.sqrt(vx**2+vy**2)\n",
    "    return vx,vy,-mu*vx*v,-g-mu*vy*v"
   ]
  },
  {
   "cell_type": "code",
   "execution_count": null,
   "metadata": {},
   "outputs": [],
   "source": [
    "v0 = 20 # m/s\n",
    "theta = 0.5"
   ]
  },
  {
   "cell_type": "code",
   "execution_count": null,
   "metadata": {},
   "outputs": [],
   "source": [
    "x0 = 0\n",
    "y0 = 0\n",
    "v0x = v0*np.cos(theta)\n",
    "v0y = v0*np.sin(theta)\n",
    "X0 = [x0,y0,v0x,v0y]"
   ]
  },
  {
   "cell_type": "code",
   "execution_count": null,
   "metadata": {},
   "outputs": [],
   "source": [
    "tmax = 2\n",
    "dt = 0.01\n",
    "t = np.arange(0, tmax+dt, dt)"
   ]
  },
  {
   "cell_type": "code",
   "execution_count": null,
   "metadata": {},
   "outputs": [],
   "source": [
    "\n",
    "g = 9.81\n",
    "\n",
    "mu = 0\n",
    "X = odeint(projectile_dt, X0, t, args=(mu,g))\n",
    "\n",
    "mu = 0.02\n",
    "Xmu = odeint(projectile_dt, X0, t, args=(mu,g))"
   ]
  },
  {
   "cell_type": "code",
   "execution_count": null,
   "metadata": {},
   "outputs": [],
   "source": [
    "\n",
    "x, y = X[:,0], X[:,1]\n",
    "xmu,ymu = Xmu[:,0], Xmu[:,1]"
   ]
  },
  {
   "cell_type": "code",
   "execution_count": null,
   "metadata": {},
   "outputs": [],
   "source": [
    "fig = plt.figure(figsize=(8, 6), dpi=72)\n",
    "\n",
    "ax = fig.add_subplot(111)\n",
    "\n",
    "plt.plot(x,y,label=\"no drag\")\n",
    "plt.plot(xmu,ymu,label=\"$\\mu$ = {}\".format(mu))\n",
    "\n",
    "_ = ax.set_ylim(0,5.5)\n",
    "\n",
    "plt.text(0.5,5.0, r'$v_0$ = {} m/s'.format(v0))\n",
    "plt.text(0.5,4.8, r'$\\theta$ = {} rad'.format(theta))\n",
    "\n",
    "plt.xlabel('x [m]')\n",
    "plt.ylabel('y [m]')\n",
    "plt.legend(loc='best',frameon=False)\n",
    "plt.show()"
   ]
  },
  {
   "cell_type": "code",
   "execution_count": null,
   "metadata": {},
   "outputs": [],
   "source": [
    "# plot one time snapshot\n",
    "\n",
    "i = 100\n",
    "\n",
    "plt.figure(figsize=(8,6),dpi=80)\n",
    "\n",
    "plt.plot(x[:i],y[:i],\"-\",linewidth=1,color='blue')\n",
    "plt.plot(x[i],y[i],\"o\",markersize=10,color='blue',label=\"no drag\")\n",
    "\n",
    "plt.plot(xmu[:i],ymu[:i],\"-\",linewidth=1,color='orange')\n",
    "plt.plot(xmu[i],ymu[i],\"o\",markersize=10,color='orange',label=\"$\\mu$ = {}\".format(mu))\n",
    "\n",
    "plt.xlim([0,35])\n",
    "plt.ylim([0,5.5])\n",
    "plt.text(1.5,5.20, r'$v_0$ = {} m/s'.format(v0))\n",
    "plt.text(1.5,4.95, r'$\\theta$ = {} rad'.format(theta))\n",
    "plt.text(15.,5.05, r't = {} s'.format(t[i]))\n",
    "plt.xlabel('x [m]')\n",
    "plt.ylabel('y [m]')\n",
    "plt.legend(loc='best',frameon=False)\n",
    "plt.show()"
   ]
  },
  {
   "cell_type": "code",
   "execution_count": null,
   "metadata": {},
   "outputs": [],
   "source": [
    "fig, ax = plt.subplots(figsize=(8,6),dpi=80)\n",
    "l, = plt.plot([],[],\"-\",linewidth=1,color='blue')\n",
    "b, = plt.plot([],[],\"o\",markersize=10,color='blue',label=\"no drag\")\n",
    "lmu, = plt.plot([],[],\"-\",linewidth=1,color='orange')\n",
    "bmu, = plt.plot([],[],\"o\",markersize=10,color='orange',label=\"$\\mu$ = {}\".format(mu))\n",
    "plt.xlim([0,35])\n",
    "plt.ylim([0,5.5])\n",
    "plt.text(1.5,5.20, r'$v_0$ = {} m/s'.format(v0))\n",
    "plt.text(1.5,4.95, r'$\\theta$ = {} rad'.format(theta))\n",
    "time = plt.text(15.,5.05,\"\")\n",
    "plt.xlabel('x [m]')\n",
    "plt.ylabel('y [m]')\n",
    "plt.legend(loc='best',frameon=False)\n",
    "plt.show()"
   ]
  },
  {
   "cell_type": "code",
   "execution_count": null,
   "metadata": {},
   "outputs": [],
   "source": [
    "from matplotlib.animation import FuncAnimation, FFMpegWriter\n",
    "%matplotlib inline\n",
    "from IPython.display import HTML, Image\n",
    "\n",
    "def projectile_init():\n",
    "    l.set_data([],[])\n",
    "    b.set_data([],[])\n",
    "    lmu.set_data([],[])\n",
    "    bmu.set_data([],[])\n",
    "    time.set_text(\"\")\n",
    "    return (l,)\n",
    "\n",
    "def projectile_animate(i):\n",
    "    l.set_data(x[:i],y[:i])\n",
    "    b.set_data(x[i],y[i])\n",
    "    lmu.set_data(xmu[:i],ymu[:i])\n",
    "    bmu.set_data(xmu[i],ymu[i])\n",
    "    time.set_text(r't = {:4.2f} s'.format(t[i]))\n",
    "    return (l,)\n",
    "\n",
    "anim = FuncAnimation(fig,projectile_animate,frames=range(len(t)),init_func=projectile_init,blit=True)"
   ]
  },
  {
   "cell_type": "code",
   "execution_count": null,
   "metadata": {},
   "outputs": [],
   "source": [
    "import ffmpeg\n",
    "import matplotlib.animation as animation\n",
    "#Writer = animation.FFMpegWriter(fps=30, codec='libx264')"
   ]
  },
  {
   "cell_type": "code",
   "execution_count": null,
   "metadata": {},
   "outputs": [],
   "source": [
    "#HTML(anim.to_html5_video())"
   ]
  },
  {
   "cell_type": "code",
   "execution_count": null,
   "metadata": {},
   "outputs": [],
   "source": [
    "anim.save('gifs/projectile.gif', writer='pillow', fps=30) # imagemagick"
   ]
  },
  {
   "cell_type": "code",
   "execution_count": null,
   "metadata": {},
   "outputs": [],
   "source": [
    "Image(url='gifs/projectile.gif')"
   ]
  }
 ],
 "metadata": {
  "kernelspec": {
   "display_name": "Python 3",
   "language": "python",
   "name": "python3"
  },
  "language_info": {
   "codemirror_mode": {
    "name": "ipython",
    "version": 3
   },
   "file_extension": ".py",
   "mimetype": "text/x-python",
   "name": "python",
   "nbconvert_exporter": "python",
   "pygments_lexer": "ipython3",
   "version": "3.8.2"
  }
 },
 "nbformat": 4,
 "nbformat_minor": 4
}
