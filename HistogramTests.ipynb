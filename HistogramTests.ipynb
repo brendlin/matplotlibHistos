{
 "cells": [
  {
   "cell_type": "code",
   "execution_count": null,
   "metadata": {},
   "outputs": [],
   "source": [
    "# %matplotlib notebook\n",
    "import numpy as np\n",
    "import matplotlib.pyplot as plt\n",
    "import sys\n",
    "from Histo import Histo"
   ]
  },
  {
   "cell_type": "markdown",
   "metadata": {},
   "source": [
    "Plotting: Comparing built-in plt.hist, [plt.errorbar with np.histogram] and my Histo class\n",
    "--------\n",
    "Matplotlib has a `plt.hist` function that takes your data directly and plots it in a histogram. It is very memory intensive, because it requires you to keep your whole dataset around. It also does not have good error bar options.\n",
    "\n",
    "To get error bars, we can use a combination of `np.histogram()` and `plt.errorbar()`. But this suffers from the same memory issue as above.\n",
    "\n",
    "My Histo class (initiated by e.g. `Histo.FixedWidthConstructor(20,-4.0,4.0)`) has a Fill function that allows you to loop through data and discard it from memory (e.g. if you are running over multi-GB+ files), that you cannot keep open all at once."
   ]
  },
  {
   "cell_type": "code",
   "execution_count": null,
   "metadata": {},
   "outputs": [],
   "source": [
    "ax = plt.subplot()\n",
    "ax.set_yscale(\"log\")\n",
    "\n",
    "# First try: pyplot \"hist\". Eh... not good.\n",
    "xx = np.random.normal(0,1,(100000))\n",
    "plt.hist(xx,np.arange(-4,4,0.4))\n",
    "\n",
    "# second try: np.histogram <- I like this one ... but it can be memory intensive\n",
    "if True :\n",
    "    x = np.random.randn(100000)\n",
    "    print(\"size of data: {} kB\".format(sys.getsizeof(x)/1000))\n",
    "    counts,bin_edges = np.histogram(x,20,[-4,4])\n",
    "    #bin_centers = (bin_edges[:-1] + bin_edges[1:])/2.\n",
    "    bin_centers = bin_edges[:-1] + np.diff(bin_edges) / 2\n",
    "    err = np.sqrt(counts)\n",
    "    #print(\"counts:\",counts)\n",
    "    #print(\"errors:\",err)\n",
    "    plt.errorbar(bin_centers, counts, yerr=err, fmt='o')\n",
    "\n",
    "# third try: keep track of sumw, sumw2 manually, and errorbar\n",
    "# Histo class! (Supports 1D, 2D, 3D histograms)\n",
    "if True :\n",
    "    histo = Histo.FixedWidthConstructor(20,-4.0,4.0)\n",
    "    print(\"size of histo: {} kB\".format(sys.getsizeof(histo)))\n",
    "    \n",
    "    for i in range(100000) :\n",
    "        val = np.random.randn()\n",
    "        histo.Fill(val)\n",
    "        \n",
    "    histo.Draw()\n",
    "\n",
    "plt.show()\n"
   ]
  },
  {
   "cell_type": "markdown",
   "metadata": {},
   "source": [
    "Another example, showing another marker and error bar style:\n",
    "-------"
   ]
  },
  {
   "cell_type": "code",
   "execution_count": null,
   "metadata": {},
   "outputs": [],
   "source": [
    "fig2,ax2 = plt.subplots()\n",
    "\n",
    "# 2d histogram\n",
    "if True :\n",
    "    histo2 = Histo.FixedWidthConstructor(20,-4.0,4.0)\n",
    "    \n",
    "    for i in range(10000) :\n",
    "        val = np.random.randn()\n",
    "        histo2.Fill(val)\n",
    "        \n",
    "    plt.errorbar(histo2.BinCenters(histo2.xbin_edges),histo2.sumw[1:-1],\n",
    "                 yerr=np.sqrt(histo2.sumw2[1:-1]), fmt='o',fillstyle='none')\n",
    "\n",
    "\n",
    "plt.show()"
   ]
  },
  {
   "cell_type": "markdown",
   "metadata": {},
   "source": [
    "2-D histogram, with variable binning using pcolor and my histo2d\n",
    "-------\n",
    "(dividing each bin by its area to normalize)"
   ]
  },
  {
   "cell_type": "code",
   "execution_count": null,
   "metadata": {},
   "outputs": [],
   "source": [
    "fig2,ax2 = plt.subplots()\n",
    "ax2.set(xlabel='x axis', ylabel='y axis',title='Plot title')\n",
    "\n",
    "# 2d histogram\n",
    "#histo2d = Histo.FixedWidthConstructor(10,-4,4,10,-4,4)\n",
    "histo2d = Histo(list(np.linspace(-4, 0, num=20))+list(np.linspace(0.4, 4, num=9)),\n",
    "                list(np.linspace(-4, 0, num=20))+list(np.linspace(0.4, 4, num=9)))\n",
    "#histo2d = Histo(list(np.linspace(-4, 0, num=2))+list(np.linspace(1, 4, num=3)),\n",
    "#                list(np.linspace(-4, 0, num=2))+list(np.linspace(1, 4, num=3)))\n",
    "\n",
    "for i in range(100000) :\n",
    "    val1 = np.random.normal(-1)\n",
    "    val2 = np.random.normal(-1)\n",
    "    histo2d.Fill(val1,val2)\n",
    "\n",
    "X,Y = np.meshgrid(histo2d.xbin_edges, histo2d.ybin_edges)\n",
    "area = (X[:-1,1:]-X[:-1,:-1]) * (Y[1:,:-1]-Y[:-1,:-1])\n",
    "sumw_width = histo2d.sumw[1:-1,1:-1] / area\n",
    "plt.pcolor(X, Y, sumw_width,cmap='Blues',vmin=0,vmax=15000)\n",
    "cbar = plt.colorbar()\n",
    "cbar.set_label('z axis', rotation=270,labelpad=15)\n",
    "    \n",
    "plt.show()"
   ]
  },
  {
   "cell_type": "markdown",
   "metadata": {},
   "source": [
    "2D binning, without dividing by area:\n",
    "--------"
   ]
  },
  {
   "cell_type": "code",
   "execution_count": null,
   "metadata": {},
   "outputs": [],
   "source": [
    "fig2p1,ax2p1 = plt.subplots()\n",
    "ax2p1.set(xlabel='x axis', ylabel='y axis',title='Plot title')\n",
    "\n",
    "X,Y = np.meshgrid(histo2d.xbin_edges, histo2d.ybin_edges)\n",
    "plt.pcolor(X, Y, histo2d.sumw[1:-1,1:-1],cmap='Blues',vmin=0,vmax=800)\n",
    "plt.colorbar().set_label('z axis', rotation=270,labelpad=15)\n",
    "\n",
    "plt.show()"
   ]
  },
  {
   "cell_type": "markdown",
   "metadata": {},
   "source": [
    "Contourf Example (using meshgrid and my histo2d)\n",
    "---------\n",
    "Please note the contourf-specific issues related to getting the colorbar levels to match the plot levels!"
   ]
  },
  {
   "cell_type": "code",
   "execution_count": null,
   "metadata": {},
   "outputs": [],
   "source": [
    "fig3,ax3 = plt.subplots()\n",
    "ax3.set(xlabel='x axis', ylabel='y axis',title='Plot title')\n",
    "\n",
    "# contours are *point* based plots, so convert our bound into point centers\n",
    "X,Y = np.meshgrid(histo2d.BinCenters(histo2d.xbin_edges),\n",
    "                  histo2d.BinCenters(histo2d.ybin_edges))\n",
    "\n",
    "Xedges,Yedges = np.meshgrid(histo2d.xbin_edges, histo2d.ybin_edges)\n",
    "area = (Xedges[:-1,1:]-Xedges[:-1,:-1]) * (Yedges[1:,:-1]-Yedges[:-1,:-1])\n",
    "\n",
    "sumw_width = histo2d.sumw[1:-1,1:-1] / area\n",
    "\n",
    "# For contourf only:\n",
    "# If you do not set levels, then you do not have control over the min/max\n",
    "# of the colorbar !!!\n",
    "vmin,vmax = 0,18000\n",
    "levels = np.linspace(vmin, vmax, 10+1)\n",
    "\n",
    "plt.contourf(X,Y,sumw_width,cmap='Blues',vmin=vmin,vmax=vmax,levels=levels)\n",
    "\n",
    "ax3.set_xlim([-4,4])\n",
    "ax3.set_ylim([-4,4])\n",
    "plt.colorbar().set_label('z axis', rotation=270,labelpad=15)\n",
    "plt.show()"
   ]
  },
  {
   "cell_type": "code",
   "execution_count": null,
   "metadata": {},
   "outputs": [],
   "source": []
  }
 ],
 "metadata": {
  "kernelspec": {
   "display_name": "Python 3",
   "language": "python",
   "name": "python3"
  },
  "language_info": {
   "codemirror_mode": {
    "name": "ipython",
    "version": 3
   },
   "file_extension": ".py",
   "mimetype": "text/x-python",
   "name": "python",
   "nbconvert_exporter": "python",
   "pygments_lexer": "ipython3",
   "version": "3.7.7"
  }
 },
 "nbformat": 4,
 "nbformat_minor": 2
}
